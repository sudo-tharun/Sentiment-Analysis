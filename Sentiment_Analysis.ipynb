{
  "nbformat": 4,
  "nbformat_minor": 0,
  "metadata": {
    "colab": {
      "name": "Sentiment Analysis.ipynb",
      "provenance": [],
      "collapsed_sections": []
    },
    "kernelspec": {
      "name": "python3",
      "display_name": "Python 3"
    },
    "language_info": {
      "name": "python"
    }
  },
  "cells": [
    {
      "cell_type": "code",
      "metadata": {
        "id": "11YuAVrYcaql",
        "colab": {
          "base_uri": "https://localhost:8080/"
        },
        "outputId": "4a745a43-e5cd-46fc-8b21-b6ad48a5ef99"
      },
      "source": [
        "import pandas as pd\n",
        "!pip install -q wordcloud\n",
        "import wordcloud\n",
        "import nltk\n",
        "nltk.download('stopwords')\n",
        "nltk.download('wordnet')\n",
        "nltk.download('punkt')\n",
        "nltk.download('averaged_perceptron_tagger')"
      ],
      "execution_count": 1,
      "outputs": [
        {
          "output_type": "stream",
          "text": [
            "[nltk_data] Downloading package stopwords to /root/nltk_data...\n",
            "[nltk_data]   Unzipping corpora/stopwords.zip.\n",
            "[nltk_data] Downloading package wordnet to /root/nltk_data...\n",
            "[nltk_data]   Unzipping corpora/wordnet.zip.\n",
            "[nltk_data] Downloading package punkt to /root/nltk_data...\n",
            "[nltk_data]   Unzipping tokenizers/punkt.zip.\n",
            "[nltk_data] Downloading package averaged_perceptron_tagger to\n",
            "[nltk_data]     /root/nltk_data...\n",
            "[nltk_data]   Unzipping taggers/averaged_perceptron_tagger.zip.\n"
          ],
          "name": "stdout"
        },
        {
          "output_type": "execute_result",
          "data": {
            "text/plain": [
              "True"
            ]
          },
          "metadata": {
            "tags": []
          },
          "execution_count": 1
        }
      ]
    },
    {
      "cell_type": "code",
      "metadata": {
        "colab": {
          "base_uri": "https://localhost:8080/",
          "height": 402
        },
        "id": "s9c58qlZlETs",
        "outputId": "41feacf6-0308-4361-c361-fc83fed1b52e"
      },
      "source": [
        "df = pd.read_csv('/content/Review_data.csv')\n",
        "df"
      ],
      "execution_count": 2,
      "outputs": [
        {
          "output_type": "execute_result",
          "data": {
            "text/html": [
              "<div>\n",
              "<style scoped>\n",
              "    .dataframe tbody tr th:only-of-type {\n",
              "        vertical-align: middle;\n",
              "    }\n",
              "\n",
              "    .dataframe tbody tr th {\n",
              "        vertical-align: top;\n",
              "    }\n",
              "\n",
              "    .dataframe thead th {\n",
              "        text-align: right;\n",
              "    }\n",
              "</style>\n",
              "<table border=\"1\" class=\"dataframe\">\n",
              "  <thead>\n",
              "    <tr style=\"text-align: right;\">\n",
              "      <th></th>\n",
              "      <th>review</th>\n",
              "      <th>rating</th>\n",
              "    </tr>\n",
              "  </thead>\n",
              "  <tbody>\n",
              "    <tr>\n",
              "      <th>0</th>\n",
              "      <td>It was nice produt. I like it's design a lot. ...</td>\n",
              "      <td>5</td>\n",
              "    </tr>\n",
              "    <tr>\n",
              "      <th>1</th>\n",
              "      <td>awesome sound....very pretty to see this nd th...</td>\n",
              "      <td>5</td>\n",
              "    </tr>\n",
              "    <tr>\n",
              "      <th>2</th>\n",
              "      <td>awesome sound quality. pros 7-8 hrs of battery...</td>\n",
              "      <td>4</td>\n",
              "    </tr>\n",
              "    <tr>\n",
              "      <th>3</th>\n",
              "      <td>I think it is such a good product not only as ...</td>\n",
              "      <td>5</td>\n",
              "    </tr>\n",
              "    <tr>\n",
              "      <th>4</th>\n",
              "      <td>awesome bass sound quality very good bettary l...</td>\n",
              "      <td>5</td>\n",
              "    </tr>\n",
              "    <tr>\n",
              "      <th>...</th>\n",
              "      <td>...</td>\n",
              "      <td>...</td>\n",
              "    </tr>\n",
              "    <tr>\n",
              "      <th>9971</th>\n",
              "      <td>GoodREAD MORE</td>\n",
              "      <td>5</td>\n",
              "    </tr>\n",
              "    <tr>\n",
              "      <th>9972</th>\n",
              "      <td>Everything is amazimg but the built is very li...</td>\n",
              "      <td>5</td>\n",
              "    </tr>\n",
              "    <tr>\n",
              "      <th>9973</th>\n",
              "      <td>GoodREAD MORE</td>\n",
              "      <td>5</td>\n",
              "    </tr>\n",
              "    <tr>\n",
              "      <th>9974</th>\n",
              "      <td>Best headphone i have ever used....READ MORE</td>\n",
              "      <td>5</td>\n",
              "    </tr>\n",
              "    <tr>\n",
              "      <th>9975</th>\n",
              "      <td>NiceREAD MORE</td>\n",
              "      <td>5</td>\n",
              "    </tr>\n",
              "  </tbody>\n",
              "</table>\n",
              "<p>9976 rows × 2 columns</p>\n",
              "</div>"
            ],
            "text/plain": [
              "                                                 review  rating\n",
              "0     It was nice produt. I like it's design a lot. ...       5\n",
              "1     awesome sound....very pretty to see this nd th...       5\n",
              "2     awesome sound quality. pros 7-8 hrs of battery...       4\n",
              "3     I think it is such a good product not only as ...       5\n",
              "4     awesome bass sound quality very good bettary l...       5\n",
              "...                                                 ...     ...\n",
              "9971                                      GoodREAD MORE       5\n",
              "9972  Everything is amazimg but the built is very li...       5\n",
              "9973                                      GoodREAD MORE       5\n",
              "9974       Best headphone i have ever used....READ MORE       5\n",
              "9975                                      NiceREAD MORE       5\n",
              "\n",
              "[9976 rows x 2 columns]"
            ]
          },
          "metadata": {
            "tags": []
          },
          "execution_count": 2
        }
      ]
    },
    {
      "cell_type": "code",
      "metadata": {
        "id": "pPG0qChNbbok"
      },
      "source": [
        "df['rating'] = df['rating'].replace(5,'Good')\n",
        "df['rating'] = df['rating'].replace(4,'Good')\n",
        "df['rating'] = df['rating'].replace(3,'Good')\n",
        "df['rating'] = df['rating'].replace(2,'Bad')\n",
        "df['rating'] = df['rating'].replace(1,'Bad')"
      ],
      "execution_count": 3,
      "outputs": []
    },
    {
      "cell_type": "code",
      "metadata": {
        "id": "TWMA0llieqJ4"
      },
      "source": [
        "#preprocess data\n",
        "df['review'] = df['review'].str.lower()  #Convert to lower case\n",
        "df['review'] = df['review'].str.replace('\\d+', '') #removing numbers\n",
        "df['review'] = df['review'].str.replace('.','')\n",
        "df['review'] = df['review'].str.replace('-','')\n",
        "df['review'] = df['review'].str.replace('?','')\n",
        "df['review'] = df['review'].str.replace(\"'\",'')\n",
        "df['review'] = df['review'].str.replace('  ','')  #for extra spaces\n"
      ],
      "execution_count": 4,
      "outputs": []
    },
    {
      "cell_type": "code",
      "metadata": {
        "id": "oHzmnOfeiigH"
      },
      "source": [
        "#tokenization and stemming\n",
        "from nltk.stem.snowball import SnowballStemmer\n",
        "df['tokenized_sents'] = df.apply(lambda row: nltk.word_tokenize(row['review']), axis=1)\n",
        "stemmer = SnowballStemmer(\"english\")\n",
        "df['stemmed'] = df['tokenized_sents'].apply(lambda x: [stemmer.stem(y) for y in x]) # Stem every word.\n",
        "df = df.drop(columns=['tokenized_sents'])\n",
        "df['review'] = df['stemmed'].apply(lambda x: ' '.join(map(str, x)))\n",
        "df = df.drop(columns=['stemmed'])"
      ],
      "execution_count": 5,
      "outputs": []
    },
    {
      "cell_type": "code",
      "metadata": {
        "id": "8kZcxZChm_Pk"
      },
      "source": [
        "x = df.iloc[:,0]\n",
        "y = df.iloc[:,1]"
      ],
      "execution_count": 6,
      "outputs": []
    },
    {
      "cell_type": "code",
      "metadata": {
        "id": "K6GYvcThnN2U"
      },
      "source": [
        "from sklearn.model_selection import train_test_split\n",
        "x_train,x_test,y_train,y_test = train_test_split(x,y,random_state=0,stratify=y)"
      ],
      "execution_count": 7,
      "outputs": []
    },
    {
      "cell_type": "code",
      "metadata": {
        "colab": {
          "base_uri": "https://localhost:8080/"
        },
        "id": "g3dgJKq0kdGm",
        "outputId": "e72c2f46-6527-4d03-d680-98c2a2ab7601"
      },
      "source": [
        "#Vectorization and model fitting using pipeline\n",
        "from sklearn.pipeline import Pipeline\n",
        "from sklearn.feature_extraction.text import TfidfVectorizer\n",
        "from sklearn.svm import SVC\n",
        "text_model = Pipeline([('tfidi',TfidfVectorizer()),('model',SVC())])\n",
        "text_model.fit(x_train,y_train)"
      ],
      "execution_count": 8,
      "outputs": [
        {
          "output_type": "execute_result",
          "data": {
            "text/plain": [
              "Pipeline(memory=None,\n",
              "         steps=[('tfidi',\n",
              "                 TfidfVectorizer(analyzer='word', binary=False,\n",
              "                                 decode_error='strict',\n",
              "                                 dtype=<class 'numpy.float64'>,\n",
              "                                 encoding='utf-8', input='content',\n",
              "                                 lowercase=True, max_df=1.0, max_features=None,\n",
              "                                 min_df=1, ngram_range=(1, 1), norm='l2',\n",
              "                                 preprocessor=None, smooth_idf=True,\n",
              "                                 stop_words=None, strip_accents=None,\n",
              "                                 sublinear_tf=False,\n",
              "                                 token_pattern='(?u)\\\\b\\\\w\\\\w+\\\\b',\n",
              "                                 tokenizer=None, use_idf=True,\n",
              "                                 vocabulary=None)),\n",
              "                ('model',\n",
              "                 SVC(C=1.0, break_ties=False, cache_size=200, class_weight=None,\n",
              "                     coef0=0.0, decision_function_shape='ovr', degree=3,\n",
              "                     gamma='scale', kernel='rbf', max_iter=-1,\n",
              "                     probability=False, random_state=None, shrinking=True,\n",
              "                     tol=0.001, verbose=False))],\n",
              "         verbose=False)"
            ]
          },
          "metadata": {
            "tags": []
          },
          "execution_count": 8
        }
      ]
    },
    {
      "cell_type": "code",
      "metadata": {
        "colab": {
          "base_uri": "https://localhost:8080/"
        },
        "id": "tEfjc4OWk0N-",
        "outputId": "de0a6101-21e3-4b58-cc46-5c87dde3185f"
      },
      "source": [
        "from sklearn.metrics import classification_report,confusion_matrix,accuracy_score\n",
        "y_pred = text_model.predict(x_test)\n",
        "accuracy_score(y_test,y_pred)"
      ],
      "execution_count": 9,
      "outputs": [
        {
          "output_type": "execute_result",
          "data": {
            "text/plain": [
              "0.9370489174017642"
            ]
          },
          "metadata": {
            "tags": []
          },
          "execution_count": 9
        }
      ]
    },
    {
      "cell_type": "code",
      "metadata": {
        "colab": {
          "base_uri": "https://localhost:8080/"
        },
        "id": "YivqMo_VoPkM",
        "outputId": "257740ac-3012-4d8f-97f4-4ba60150b901"
      },
      "source": [
        "#confusion matrix\n",
        "confusion_matrix(y_test,y_pred)"
      ],
      "execution_count": 10,
      "outputs": [
        {
          "output_type": "execute_result",
          "data": {
            "text/plain": [
              "array([[ 117,  133],\n",
              "       [  24, 2220]])"
            ]
          },
          "metadata": {
            "tags": []
          },
          "execution_count": 10
        }
      ]
    },
    {
      "cell_type": "code",
      "metadata": {
        "colab": {
          "base_uri": "https://localhost:8080/",
          "height": 69
        },
        "id": "Jmpsde01odSE",
        "outputId": "c6a064f3-8d3f-4378-ecb4-c48845761399"
      },
      "source": [
        "#Classification report\n",
        "classification_report(y_test,y_pred)"
      ],
      "execution_count": 11,
      "outputs": [
        {
          "output_type": "execute_result",
          "data": {
            "application/vnd.google.colaboratory.intrinsic+json": {
              "type": "string"
            },
            "text/plain": [
              "'              precision    recall  f1-score   support\\n\\n         Bad       0.83      0.47      0.60       250\\n        Good       0.94      0.99      0.97      2244\\n\\n    accuracy                           0.94      2494\\n   macro avg       0.89      0.73      0.78      2494\\nweighted avg       0.93      0.94      0.93      2494\\n'"
            ]
          },
          "metadata": {
            "tags": []
          },
          "execution_count": 11
        }
      ]
    },
    {
      "cell_type": "code",
      "metadata": {
        "colab": {
          "base_uri": "https://localhost:8080/"
        },
        "id": "M_I_trZaokfB",
        "outputId": "31cac52d-b5ba-430d-9ebd-7a3d335a0104"
      },
      "source": [
        "import joblib\n",
        "joblib.dump(text_model,'Email_Class')"
      ],
      "execution_count": 12,
      "outputs": [
        {
          "output_type": "execute_result",
          "data": {
            "text/plain": [
              "['Email_Class']"
            ]
          },
          "metadata": {
            "tags": []
          },
          "execution_count": 12
        }
      ]
    },
    {
      "cell_type": "code",
      "metadata": {
        "id": "ZmPVJE4spZbU",
        "colab": {
          "base_uri": "https://localhost:8080/"
        },
        "outputId": "25a342fe-181c-475e-c1d8-f0d33b3385bb"
      },
      "source": [
        "!pip install streamlit --quiet\n",
        "!pip install pyngrok==4.1.1 --quiet\n",
        "from pyngrok import ngrok"
      ],
      "execution_count": 13,
      "outputs": [
        {
          "output_type": "stream",
          "text": [
            "\u001b[K     |████████████████████████████████| 8.2MB 7.6MB/s \n",
            "\u001b[K     |████████████████████████████████| 174kB 55.2MB/s \n",
            "\u001b[K     |████████████████████████████████| 81kB 9.4MB/s \n",
            "\u001b[K     |████████████████████████████████| 4.2MB 44.0MB/s \n",
            "\u001b[K     |████████████████████████████████| 112kB 37.9MB/s \n",
            "\u001b[K     |████████████████████████████████| 71kB 8.0MB/s \n",
            "\u001b[K     |████████████████████████████████| 122kB 54.0MB/s \n",
            "\u001b[?25h  Building wheel for blinker (setup.py) ... \u001b[?25l\u001b[?25hdone\n",
            "\u001b[31mERROR: google-colab 1.0.0 has requirement ipykernel~=4.10, but you'll have ipykernel 5.5.5 which is incompatible.\u001b[0m\n",
            "  Building wheel for pyngrok (setup.py) ... \u001b[?25l\u001b[?25hdone\n"
          ],
          "name": "stdout"
        }
      ]
    },
    {
      "cell_type": "code",
      "metadata": {
        "colab": {
          "base_uri": "https://localhost:8080/"
        },
        "id": "xvnuJb2Tp134",
        "outputId": "7c4afb2a-c525-4178-80cd-a7f068dbb0e4"
      },
      "source": [
        "%%writefile app.py\n",
        "import streamlit as st\n",
        "import sklearn\n",
        "import joblib\n",
        "model =joblib.load('Email_Class')\n",
        "\n",
        "add_selectbox = st.sidebar.radio(\"Our page\",['Home',\"Rate us\"])\n",
        "if(add_selectbox == 'Home'):\n",
        "  st.title(\"Review classifier\")\n",
        "  st.image('https://static.businessworld.in/article/article_extra_large_image/1600858456_HulSrV_Flipkart.jpg')\n",
        "\n",
        "  ip = st.text_input('Enter your review')\n",
        "  p = model.predict([ip])\n",
        "  if st.button('Predict'):\n",
        "    st.header(op[0])\n",
        "    if(op[0]=='Good'):\n",
        "      st.markdown(\"\"\":smile:\"\"\")\n",
        "    else:\n",
        "      st.markdown(\"\"\":angry:\"\"\")\n",
        "else:\n",
        "  st.title(\"Rate US\")\n",
        "  st.slider(\"Rating\",0,5)\n",
        "  if st.button(\"Submit\"):\n",
        "    st.header(\"Thanks for the rating\")\n",
        "  \n",
        "  "
      ],
      "execution_count": 14,
      "outputs": [
        {
          "output_type": "stream",
          "text": [
            "Writing app.py\n"
          ],
          "name": "stdout"
        }
      ]
    },
    {
      "cell_type": "code",
      "metadata": {
        "colab": {
          "base_uri": "https://localhost:8080/",
          "height": 52
        },
        "id": "7A2eRnFwruAC",
        "outputId": "601059f0-e63a-4b00-ee52-eae8a72a45f3"
      },
      "source": [
        "!nohup streamlit run app.py&\n",
        "url = ngrok.connect(port = '8501')\n",
        "url"
      ],
      "execution_count": 15,
      "outputs": [
        {
          "output_type": "stream",
          "text": [
            "nohup: appending output to 'nohup.out'\n"
          ],
          "name": "stdout"
        },
        {
          "output_type": "execute_result",
          "data": {
            "application/vnd.google.colaboratory.intrinsic+json": {
              "type": "string"
            },
            "text/plain": [
              "'http://cf54685b0403.ngrok.io'"
            ]
          },
          "metadata": {
            "tags": []
          },
          "execution_count": 15
        }
      ]
    },
    {
      "cell_type": "code",
      "metadata": {
        "colab": {
          "base_uri": "https://localhost:8080/"
        },
        "id": "j36wLkK5ryB2",
        "outputId": "f238150c-0185-4787-a12a-99da25b04440"
      },
      "source": [
        "!pip install pipreqs"
      ],
      "execution_count": 16,
      "outputs": [
        {
          "output_type": "stream",
          "text": [
            "Collecting pipreqs\n",
            "  Downloading https://files.pythonhosted.org/packages/9b/83/b1560948400a07ec094a15c2f64587b70e1a5ab5f7b375ba902fcab5b6c3/pipreqs-0.4.10-py2.py3-none-any.whl\n",
            "Collecting yarg\n",
            "  Downloading https://files.pythonhosted.org/packages/8b/90/89a2ff242ccab6a24fbab18dbbabc67c51a6f0ed01f9a0f41689dc177419/yarg-0.1.9-py2.py3-none-any.whl\n",
            "Requirement already satisfied: docopt in /usr/local/lib/python3.7/dist-packages (from pipreqs) (0.6.2)\n",
            "Requirement already satisfied: requests in /usr/local/lib/python3.7/dist-packages (from yarg->pipreqs) (2.23.0)\n",
            "Requirement already satisfied: certifi>=2017.4.17 in /usr/local/lib/python3.7/dist-packages (from requests->yarg->pipreqs) (2020.12.5)\n",
            "Requirement already satisfied: urllib3!=1.25.0,!=1.25.1,<1.26,>=1.21.1 in /usr/local/lib/python3.7/dist-packages (from requests->yarg->pipreqs) (1.24.3)\n",
            "Requirement already satisfied: chardet<4,>=3.0.2 in /usr/local/lib/python3.7/dist-packages (from requests->yarg->pipreqs) (3.0.4)\n",
            "Requirement already satisfied: idna<3,>=2.5 in /usr/local/lib/python3.7/dist-packages (from requests->yarg->pipreqs) (2.10)\n",
            "Installing collected packages: yarg, pipreqs\n",
            "Successfully installed pipreqs-0.4.10 yarg-0.1.9\n"
          ],
          "name": "stdout"
        }
      ]
    },
    {
      "cell_type": "code",
      "metadata": {
        "colab": {
          "base_uri": "https://localhost:8080/"
        },
        "id": "7xxnRefv9NUp",
        "outputId": "19aca822-49dd-4377-d8e3-3b70b7a9c05f"
      },
      "source": [
        "!pipreqs /content"
      ],
      "execution_count": 17,
      "outputs": [
        {
          "output_type": "stream",
          "text": [
            "INFO: Successfully saved requirements file in /content/requirements.txt\n"
          ],
          "name": "stdout"
        }
      ]
    }
  ]
}